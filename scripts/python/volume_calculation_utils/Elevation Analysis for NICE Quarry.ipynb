{
 "cells": [
  {
   "cell_type": "code",
   "execution_count": 8,
   "metadata": {
    "collapsed": true
   },
   "outputs": [],
   "source": [
    "import pandas as pd\n",
    "import numpy as np\n",
    "import matplotlib.pyplot as plt\n",
    "%matplotlib inline\n",
    "\n",
    "import requests"
   ]
  },
  {
   "cell_type": "code",
   "execution_count": 3,
   "metadata": {},
   "outputs": [
    {
     "data": {
      "text/html": [
       "<div>\n",
       "<style>\n",
       "    .dataframe thead tr:only-child th {\n",
       "        text-align: right;\n",
       "    }\n",
       "\n",
       "    .dataframe thead th {\n",
       "        text-align: left;\n",
       "    }\n",
       "\n",
       "    .dataframe tbody tr th {\n",
       "        vertical-align: top;\n",
       "    }\n",
       "</style>\n",
       "<table border=\"1\" class=\"dataframe\">\n",
       "  <thead>\n",
       "    <tr style=\"text-align: right;\">\n",
       "      <th></th>\n",
       "      <th>Id</th>\n",
       "      <th>N</th>\n",
       "      <th>E</th>\n",
       "      <th>Z</th>\n",
       "      <th>Comment</th>\n",
       "    </tr>\n",
       "  </thead>\n",
       "  <tbody>\n",
       "    <tr>\n",
       "      <th>0</th>\n",
       "      <td>1</td>\n",
       "      <td>107300.845</td>\n",
       "      <td>94258.310</td>\n",
       "      <td>908.526</td>\n",
       "      <td>QUL</td>\n",
       "    </tr>\n",
       "    <tr>\n",
       "      <th>1</th>\n",
       "      <td>2</td>\n",
       "      <td>107299.032</td>\n",
       "      <td>94295.080</td>\n",
       "      <td>912.853</td>\n",
       "      <td>QUL</td>\n",
       "    </tr>\n",
       "    <tr>\n",
       "      <th>2</th>\n",
       "      <td>3</td>\n",
       "      <td>107292.332</td>\n",
       "      <td>94306.912</td>\n",
       "      <td>912.719</td>\n",
       "      <td>QUL</td>\n",
       "    </tr>\n",
       "    <tr>\n",
       "      <th>3</th>\n",
       "      <td>4</td>\n",
       "      <td>107287.705</td>\n",
       "      <td>94318.569</td>\n",
       "      <td>912.587</td>\n",
       "      <td>QUL</td>\n",
       "    </tr>\n",
       "    <tr>\n",
       "      <th>4</th>\n",
       "      <td>5</td>\n",
       "      <td>107275.601</td>\n",
       "      <td>94333.250</td>\n",
       "      <td>912.472</td>\n",
       "      <td>QUL</td>\n",
       "    </tr>\n",
       "  </tbody>\n",
       "</table>\n",
       "</div>"
      ],
      "text/plain": [
       "   Id           N          E        Z Comment\n",
       "0   1  107300.845  94258.310  908.526     QUL\n",
       "1   2  107299.032  94295.080  912.853     QUL\n",
       "2   3  107292.332  94306.912  912.719     QUL\n",
       "3   4  107287.705  94318.569  912.587     QUL\n",
       "4   5  107275.601  94333.250  912.472     QUL"
      ]
     },
     "execution_count": 3,
     "metadata": {},
     "output_type": "execute_result"
    }
   ],
   "source": [
    "sdf = pd.read_csv('GollahallySyNo39.csv', names=('Id', 'N', 'E', 'Z', 'Comment'))\n",
    "sdf.head()"
   ]
  },
  {
   "cell_type": "code",
   "execution_count": 5,
   "metadata": {},
   "outputs": [
    {
     "data": {
      "text/plain": [
       "<matplotlib.axes._subplots.AxesSubplot at 0x7f3538f4d048>"
      ]
     },
     "execution_count": 5,
     "metadata": {},
     "output_type": "execute_result"
    },
    {
     "data": {
      "image/png": "[encoded data removed]",
      "text/plain": [
       "<matplotlib.figure.Figure at 0x7f3538f83da0>"
      ]
     },
     "metadata": {},
     "output_type": "display_data"
    }
   ],
   "source": [
    "sdf['Z'].hist()"
   ]
  },
  {
   "cell_type": "code",
   "execution_count": 29,
   "metadata": {},
   "outputs": [
    {
     "data": {
      "text/plain": [
       "(77.56164708658628, 12.841907905461001)"
      ]
     },
     "execution_count": 29,
     "metadata": {},
     "output_type": "execute_result"
    }
   ],
   "source": [
    "# point_url = 'https://vimanatest.vimanalabs.com/api/v1/measurements/point?'\n",
    "# point_url += 'src_srs=EPSG:4326&tgt_srs=EPSG:9001&project=22&x=77.561999&y=12.844755'\n",
    "# headers = {'user-agent': 'my-app/0.0.1',\n",
    "#           'Authorization': 'Basic \"YXNwZWNzY2lyZTpkcm9uZUAxMjM=\"'}\n",
    "# r = requests.get(point_url, headers=headers)\n",
    "# r.text\n",
    "\n",
    "\n",
    "ELEV_URL = 'https://vimanatest.vimanalabs.com/api/v1/measurements/point?'\n",
    "ELEV_URL += 'src_srs={src}&tgt_srs={tgt}&project={project_id}&x={x}&y={y}'\n",
    "ELEV_URL_HEADERS = {'Authorization': 'Basic \"YXNwZWNzY2lyZTpkcm9uZUAxMjM=\"'}\n",
    "\n",
    "def get_point(x, y, project_id=22, src='EPSG:9001', tgt='EPSG:4326'):\n",
    "    elev_url_inst = ELEV_URL.format(x=x, y=y, project_id=project_id, src=src, tgt=tgt)\n",
    "    r = requests.get(elev_url_inst, headers=ELEV_URL_HEADERS)\n",
    "    val = r.json()\n",
    "    if val and val['point']:\n",
    "        return (val['point']['x'], val['point']['y'])\n",
    "    \n",
    "get_point(107300.845, 94258.310)"
   ]
  },
  {
   "cell_type": "code",
   "execution_count": 44,
   "metadata": {},
   "outputs": [
    {
     "data": {
      "text/html": [
       "<div>\n",
       "<style>\n",
       "    .dataframe thead tr:only-child th {\n",
       "        text-align: right;\n",
       "    }\n",
       "\n",
       "    .dataframe thead th {\n",
       "        text-align: left;\n",
       "    }\n",
       "\n",
       "    .dataframe tbody tr th {\n",
       "        vertical-align: top;\n",
       "    }\n",
       "</style>\n",
       "<table border=\"1\" class=\"dataframe\">\n",
       "  <thead>\n",
       "    <tr style=\"text-align: right;\">\n",
       "      <th></th>\n",
       "      <th>Lng</th>\n",
       "      <th>Lat</th>\n",
       "    </tr>\n",
       "  </thead>\n",
       "  <tbody>\n",
       "    <tr>\n",
       "      <th>0</th>\n",
       "      <td>77.561647</td>\n",
       "      <td>12.841908</td>\n",
       "    </tr>\n",
       "    <tr>\n",
       "      <th>1</th>\n",
       "      <td>77.561634</td>\n",
       "      <td>12.842240</td>\n",
       "    </tr>\n",
       "    <tr>\n",
       "      <th>2</th>\n",
       "      <td>77.561573</td>\n",
       "      <td>12.842348</td>\n",
       "    </tr>\n",
       "    <tr>\n",
       "      <th>3</th>\n",
       "      <td>77.561531</td>\n",
       "      <td>12.842453</td>\n",
       "    </tr>\n",
       "    <tr>\n",
       "      <th>4</th>\n",
       "      <td>77.561421</td>\n",
       "      <td>12.842587</td>\n",
       "    </tr>\n",
       "  </tbody>\n",
       "</table>\n",
       "</div>"
      ],
      "text/plain": [
       "         Lng        Lat\n",
       "0  77.561647  12.841908\n",
       "1  77.561634  12.842240\n",
       "2  77.561573  12.842348\n",
       "3  77.561531  12.842453\n",
       "4  77.561421  12.842587"
      ]
     },
     "execution_count": 44,
     "metadata": {},
     "output_type": "execute_result"
    }
   ],
   "source": [
    "# sdfh = sdf.head()\n",
    "points = sdf.apply(lambda x: pd.Series(get_point(x['N'], x['E'])), axis=1)\n",
    "points.columns = ['Lng', 'Lat']\n",
    "points.head()"
   ]
  },
  {
   "cell_type": "code",
   "execution_count": 47,
   "metadata": {},
   "outputs": [
    {
     "data": {
      "text/html": [
       "<div>\n",
       "<style>\n",
       "    .dataframe thead tr:only-child th {\n",
       "        text-align: right;\n",
       "    }\n",
       "\n",
       "    .dataframe thead th {\n",
       "        text-align: left;\n",
       "    }\n",
       "\n",
       "    .dataframe tbody tr th {\n",
       "        vertical-align: top;\n",
       "    }\n",
       "</style>\n",
       "<table border=\"1\" class=\"dataframe\">\n",
       "  <thead>\n",
       "    <tr style=\"text-align: right;\">\n",
       "      <th></th>\n",
       "      <th>Id</th>\n",
       "      <th>N</th>\n",
       "      <th>E</th>\n",
       "      <th>Z</th>\n",
       "      <th>Comment</th>\n",
       "      <th>Lng</th>\n",
       "      <th>Lat</th>\n",
       "    </tr>\n",
       "  </thead>\n",
       "  <tbody>\n",
       "    <tr>\n",
       "      <th>1880</th>\n",
       "      <td>1881</td>\n",
       "      <td>107301.492</td>\n",
       "      <td>94725.956</td>\n",
       "      <td>909.109</td>\n",
       "      <td>QUL</td>\n",
       "      <td>77.561695</td>\n",
       "      <td>12.846132</td>\n",
       "    </tr>\n",
       "    <tr>\n",
       "      <th>1881</th>\n",
       "      <td>1882</td>\n",
       "      <td>107322.125</td>\n",
       "      <td>94787.339</td>\n",
       "      <td>907.882</td>\n",
       "      <td>PC1</td>\n",
       "      <td>77.561890</td>\n",
       "      <td>12.846685</td>\n",
       "    </tr>\n",
       "    <tr>\n",
       "      <th>1882</th>\n",
       "      <td>1883</td>\n",
       "      <td>107305.657</td>\n",
       "      <td>94730.089</td>\n",
       "      <td>909.736</td>\n",
       "      <td>PC3</td>\n",
       "      <td>77.561734</td>\n",
       "      <td>12.846169</td>\n",
       "    </tr>\n",
       "    <tr>\n",
       "      <th>1883</th>\n",
       "      <td>1884</td>\n",
       "      <td>107490.681</td>\n",
       "      <td>94726.254</td>\n",
       "      <td>880.824</td>\n",
       "      <td>PC4</td>\n",
       "      <td>77.563437</td>\n",
       "      <td>12.846119</td>\n",
       "    </tr>\n",
       "    <tr>\n",
       "      <th>1884</th>\n",
       "      <td>1885</td>\n",
       "      <td>107305.573</td>\n",
       "      <td>94845.790</td>\n",
       "      <td>899.729</td>\n",
       "      <td>PC2</td>\n",
       "      <td>77.561743</td>\n",
       "      <td>12.847215</td>\n",
       "    </tr>\n",
       "  </tbody>\n",
       "</table>\n",
       "</div>"
      ],
      "text/plain": [
       "        Id           N          E        Z Comment        Lng        Lat\n",
       "1880  1881  107301.492  94725.956  909.109     QUL  77.561695  12.846132\n",
       "1881  1882  107322.125  94787.339  907.882     PC1  77.561890  12.846685\n",
       "1882  1883  107305.657  94730.089  909.736     PC3  77.561734  12.846169\n",
       "1883  1884  107490.681  94726.254  880.824     PC4  77.563437  12.846119\n",
       "1884  1885  107305.573  94845.790  899.729     PC2  77.561743  12.847215"
      ]
     },
     "execution_count": 47,
     "metadata": {},
     "output_type": "execute_result"
    }
   ],
   "source": [
    "sdfgeo = pd.concat([sdf, points], axis=1)\n",
    "sdfgeo.tail()"
   ]
  },
  {
   "cell_type": "code",
   "execution_count": 49,
   "metadata": {},
   "outputs": [],
   "source": [
    "sdfgeo.to_csv('GollahallySyNo39-GeoCoords.csv', index=False)"
   ]
  },
  {
   "cell_type": "code",
   "execution_count": 55,
   "metadata": {},
   "outputs": [
    {
     "data": {
      "text/plain": [
       "911.68798828125"
      ]
     },
     "execution_count": 55,
     "metadata": {},
     "output_type": "execute_result"
    }
   ],
   "source": [
    "#src_srs=EPSG:4326&date=2017-12-12T08:00:00.000Z&x=77.561326&y=12.845328\n",
    "ELEV_URL = 'https://vimanatest.vimanalabs.com/api/v1/measurements/elevation?'\n",
    "ELEV_URL += 'src_srs={src}&date={dt}&x={x}&y={y}'\n",
    "ELEV_URL_HEADERS = {'Authorization': 'Basic \"YXNwZWNzY2lyZTpkcm9uZUAxMjM=\"'}\n",
    "\n",
    "def get_elevation(x, y, dt='2017-12-12T08:00:00.000Z', src='EPSG:4326'):\n",
    "    elev_url_inst = ELEV_URL.format(x=x, y=y, dt=dt, src=src)\n",
    "    r = requests.get(elev_url_inst, headers=ELEV_URL_HEADERS)\n",
    "    val = r.json()\n",
    "    if val and val['local']:\n",
    "        return val['local']['z']\n",
    "    \n",
    "get_elevation(77.561695, 12.846132)"
   ]
  },
  {
   "cell_type": "code",
   "execution_count": 57,
   "metadata": {},
   "outputs": [
    {
     "data": {
      "text/html": [
       "<div>\n",
       "<style>\n",
       "    .dataframe thead tr:only-child th {\n",
       "        text-align: right;\n",
       "    }\n",
       "\n",
       "    .dataframe thead th {\n",
       "        text-align: left;\n",
       "    }\n",
       "\n",
       "    .dataframe tbody tr th {\n",
       "        vertical-align: top;\n",
       "    }\n",
       "</style>\n",
       "<table border=\"1\" class=\"dataframe\">\n",
       "  <thead>\n",
       "    <tr style=\"text-align: right;\">\n",
       "      <th></th>\n",
       "      <th>Z_NEW</th>\n",
       "    </tr>\n",
       "  </thead>\n",
       "  <tbody>\n",
       "    <tr>\n",
       "      <th>0</th>\n",
       "      <td>914.822571</td>\n",
       "    </tr>\n",
       "    <tr>\n",
       "      <th>1</th>\n",
       "      <td>916.380676</td>\n",
       "    </tr>\n",
       "    <tr>\n",
       "      <th>2</th>\n",
       "      <td>911.936829</td>\n",
       "    </tr>\n",
       "    <tr>\n",
       "      <th>3</th>\n",
       "      <td>916.154358</td>\n",
       "    </tr>\n",
       "    <tr>\n",
       "      <th>4</th>\n",
       "      <td>915.154419</td>\n",
       "    </tr>\n",
       "  </tbody>\n",
       "</table>\n",
       "</div>"
      ],
      "text/plain": [
       "        Z_NEW\n",
       "0  914.822571\n",
       "1  916.380676\n",
       "2  911.936829\n",
       "3  916.154358\n",
       "4  915.154419"
      ]
     },
     "execution_count": 57,
     "metadata": {},
     "output_type": "execute_result"
    }
   ],
   "source": [
    "# sdfgeoh = sdfgeo.head()\n",
    "points = sdfgeo.apply(lambda x: pd.Series(get_elevation(x['Lng'], x['Lat'])), axis=1)\n",
    "points.columns = ['Z_NEW']\n",
    "points.head()"
   ]
  },
  {
   "cell_type": "code",
   "execution_count": 58,
   "metadata": {},
   "outputs": [
    {
     "data": {
      "text/html": [
       "<div>\n",
       "<style>\n",
       "    .dataframe thead tr:only-child th {\n",
       "        text-align: right;\n",
       "    }\n",
       "\n",
       "    .dataframe thead th {\n",
       "        text-align: left;\n",
       "    }\n",
       "\n",
       "    .dataframe tbody tr th {\n",
       "        vertical-align: top;\n",
       "    }\n",
       "</style>\n",
       "<table border=\"1\" class=\"dataframe\">\n",
       "  <thead>\n",
       "    <tr style=\"text-align: right;\">\n",
       "      <th></th>\n",
       "      <th>Id</th>\n",
       "      <th>N</th>\n",
       "      <th>E</th>\n",
       "      <th>Z</th>\n",
       "      <th>Comment</th>\n",
       "      <th>Lng</th>\n",
       "      <th>Lat</th>\n",
       "      <th>Z_NEW</th>\n",
       "    </tr>\n",
       "  </thead>\n",
       "  <tbody>\n",
       "    <tr>\n",
       "      <th>1880</th>\n",
       "      <td>1881</td>\n",
       "      <td>107301.492</td>\n",
       "      <td>94725.956</td>\n",
       "      <td>909.109</td>\n",
       "      <td>QUL</td>\n",
       "      <td>77.561695</td>\n",
       "      <td>12.846132</td>\n",
       "      <td>911.687988</td>\n",
       "    </tr>\n",
       "    <tr>\n",
       "      <th>1881</th>\n",
       "      <td>1882</td>\n",
       "      <td>107322.125</td>\n",
       "      <td>94787.339</td>\n",
       "      <td>907.882</td>\n",
       "      <td>PC1</td>\n",
       "      <td>77.561890</td>\n",
       "      <td>12.846685</td>\n",
       "      <td>912.004028</td>\n",
       "    </tr>\n",
       "    <tr>\n",
       "      <th>1882</th>\n",
       "      <td>1883</td>\n",
       "      <td>107305.657</td>\n",
       "      <td>94730.089</td>\n",
       "      <td>909.736</td>\n",
       "      <td>PC3</td>\n",
       "      <td>77.561734</td>\n",
       "      <td>12.846169</td>\n",
       "      <td>913.924255</td>\n",
       "    </tr>\n",
       "    <tr>\n",
       "      <th>1883</th>\n",
       "      <td>1884</td>\n",
       "      <td>107490.681</td>\n",
       "      <td>94726.254</td>\n",
       "      <td>880.824</td>\n",
       "      <td>PC4</td>\n",
       "      <td>77.563437</td>\n",
       "      <td>12.846119</td>\n",
       "      <td>874.940491</td>\n",
       "    </tr>\n",
       "    <tr>\n",
       "      <th>1884</th>\n",
       "      <td>1885</td>\n",
       "      <td>107305.573</td>\n",
       "      <td>94845.790</td>\n",
       "      <td>899.729</td>\n",
       "      <td>PC2</td>\n",
       "      <td>77.561743</td>\n",
       "      <td>12.847215</td>\n",
       "      <td>904.765320</td>\n",
       "    </tr>\n",
       "  </tbody>\n",
       "</table>\n",
       "</div>"
      ],
      "text/plain": [
       "        Id           N          E        Z Comment        Lng        Lat  \\\n",
       "1880  1881  107301.492  94725.956  909.109     QUL  77.561695  12.846132   \n",
       "1881  1882  107322.125  94787.339  907.882     PC1  77.561890  12.846685   \n",
       "1882  1883  107305.657  94730.089  909.736     PC3  77.561734  12.846169   \n",
       "1883  1884  107490.681  94726.254  880.824     PC4  77.563437  12.846119   \n",
       "1884  1885  107305.573  94845.790  899.729     PC2  77.561743  12.847215   \n",
       "\n",
       "           Z_NEW  \n",
       "1880  911.687988  \n",
       "1881  912.004028  \n",
       "1882  913.924255  \n",
       "1883  874.940491  \n",
       "1884  904.765320  "
      ]
     },
     "execution_count": 58,
     "metadata": {},
     "output_type": "execute_result"
    }
   ],
   "source": [
    "sdfgeo_elev = pd.concat([sdfgeo, points], axis=1)\n",
    "sdfgeo_elev.tail()"
   ]
  },
  {
   "cell_type": "code",
   "execution_count": 59,
   "metadata": {
    "collapsed": true
   },
   "outputs": [],
   "source": [
    "sdfgeo_elev.to_csv('GollahallySyNo39-GeoCoords_Elev.csv', index=False)"
   ]
  },
  {
   "cell_type": "code",
   "execution_count": 60,
   "metadata": {},
   "outputs": [
    {
     "data": {
      "text/html": [
       "<div>\n",
       "<style>\n",
       "    .dataframe thead tr:only-child th {\n",
       "        text-align: right;\n",
       "    }\n",
       "\n",
       "    .dataframe thead th {\n",
       "        text-align: left;\n",
       "    }\n",
       "\n",
       "    .dataframe tbody tr th {\n",
       "        vertical-align: top;\n",
       "    }\n",
       "</style>\n",
       "<table border=\"1\" class=\"dataframe\">\n",
       "  <thead>\n",
       "    <tr style=\"text-align: right;\">\n",
       "      <th></th>\n",
       "      <th>Id</th>\n",
       "      <th>N</th>\n",
       "      <th>E</th>\n",
       "      <th>Z</th>\n",
       "      <th>Comment</th>\n",
       "      <th>Lng</th>\n",
       "      <th>Lat</th>\n",
       "      <th>Z_NEW</th>\n",
       "      <th>Z_DELTA</th>\n",
       "    </tr>\n",
       "  </thead>\n",
       "  <tbody>\n",
       "    <tr>\n",
       "      <th>0</th>\n",
       "      <td>1</td>\n",
       "      <td>107300.845</td>\n",
       "      <td>94258.310</td>\n",
       "      <td>908.526</td>\n",
       "      <td>QUL</td>\n",
       "      <td>77.561647</td>\n",
       "      <td>12.841908</td>\n",
       "      <td>914.822571</td>\n",
       "      <td>6.296571</td>\n",
       "    </tr>\n",
       "    <tr>\n",
       "      <th>1</th>\n",
       "      <td>2</td>\n",
       "      <td>107299.032</td>\n",
       "      <td>94295.080</td>\n",
       "      <td>912.853</td>\n",
       "      <td>QUL</td>\n",
       "      <td>77.561634</td>\n",
       "      <td>12.842240</td>\n",
       "      <td>916.380676</td>\n",
       "      <td>3.527676</td>\n",
       "    </tr>\n",
       "    <tr>\n",
       "      <th>2</th>\n",
       "      <td>3</td>\n",
       "      <td>107292.332</td>\n",
       "      <td>94306.912</td>\n",
       "      <td>912.719</td>\n",
       "      <td>QUL</td>\n",
       "      <td>77.561573</td>\n",
       "      <td>12.842348</td>\n",
       "      <td>911.936829</td>\n",
       "      <td>-0.782171</td>\n",
       "    </tr>\n",
       "    <tr>\n",
       "      <th>3</th>\n",
       "      <td>4</td>\n",
       "      <td>107287.705</td>\n",
       "      <td>94318.569</td>\n",
       "      <td>912.587</td>\n",
       "      <td>QUL</td>\n",
       "      <td>77.561531</td>\n",
       "      <td>12.842453</td>\n",
       "      <td>916.154358</td>\n",
       "      <td>3.567358</td>\n",
       "    </tr>\n",
       "    <tr>\n",
       "      <th>4</th>\n",
       "      <td>5</td>\n",
       "      <td>107275.601</td>\n",
       "      <td>94333.250</td>\n",
       "      <td>912.472</td>\n",
       "      <td>QUL</td>\n",
       "      <td>77.561421</td>\n",
       "      <td>12.842587</td>\n",
       "      <td>915.154419</td>\n",
       "      <td>2.682419</td>\n",
       "    </tr>\n",
       "  </tbody>\n",
       "</table>\n",
       "</div>"
      ],
      "text/plain": [
       "   Id           N          E        Z Comment        Lng        Lat  \\\n",
       "0   1  107300.845  94258.310  908.526     QUL  77.561647  12.841908   \n",
       "1   2  107299.032  94295.080  912.853     QUL  77.561634  12.842240   \n",
       "2   3  107292.332  94306.912  912.719     QUL  77.561573  12.842348   \n",
       "3   4  107287.705  94318.569  912.587     QUL  77.561531  12.842453   \n",
       "4   5  107275.601  94333.250  912.472     QUL  77.561421  12.842587   \n",
       "\n",
       "        Z_NEW   Z_DELTA  \n",
       "0  914.822571  6.296571  \n",
       "1  916.380676  3.527676  \n",
       "2  911.936829 -0.782171  \n",
       "3  916.154358  3.567358  \n",
       "4  915.154419  2.682419  "
      ]
     },
     "execution_count": 60,
     "metadata": {},
     "output_type": "execute_result"
    }
   ],
   "source": [
    "sdfgeo_elev['Z_DELTA'] = sdfgeo_elev['Z_NEW'] - sdfgeo_elev['Z']\n",
    "sdfgeo_elev.head()"
   ]
  },
  {
   "cell_type": "code",
   "execution_count": 62,
   "metadata": {},
   "outputs": [
    {
     "data": {
      "text/plain": [
       "<matplotlib.axes._subplots.AxesSubplot at 0x7f3538756748>"
      ]
     },
     "execution_count": 62,
     "metadata": {},
     "output_type": "execute_result"
    },
    {
     "data": {
      "image/png": "[encoded data removed]",
      "text/plain": [
       "<matplotlib.figure.Figure at 0x7f3538e42f28>"
      ]
     },
     "metadata": {},
     "output_type": "display_data"
    }
   ],
   "source": [
    "sdfgeo_elev['Z_DELTA'].hist(bins=100)"
   ]
  },
  {
   "cell_type": "code",
   "execution_count": null,
   "metadata": {
    "collapsed": true
   },
   "outputs": [],
   "source": []
  }
 ],
 "metadata": {
  "kernelspec": {
   "display_name": "Python 3",
   "language": "python",
   "name": "python3"
  },
  "language_info": {
   "codemirror_mode": {
    "name": "ipython",
    "version": 3
   },
   "file_extension": ".py",
   "mimetype": "text/x-python",
   "name": "python",
   "nbconvert_exporter": "python",
   "pygments_lexer": "ipython3",
   "version": "3.5.2"
  },
  "widgets": {
   "state": {},
   "version": "1.1.2"
  }
 },
 "nbformat": 4,
 "nbformat_minor": 2
}
