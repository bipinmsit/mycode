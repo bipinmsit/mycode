{
 "cells": [
  {
   "cell_type": "markdown",
   "metadata": {},
   "source": [
    "This notebook will be a tutorial in how to calculate volume, as a difference between consecutive DEMs.\n",
    "A rough overview of the steps to be followed is given below-\n",
    "1. Sort DEMs in chronological order. \n",
    "2. Inspect DEMs and Mosaics to check for distortions. \n",
    "3. Create Vector Mask to remove Areas with distortions. \n",
    "4. Mask original DEM with created vector mask. \n",
    "5. Use grass's `r.fillnulls` command to create the gaps left by the masked distortions. \n",
    "6. Obtain set of error free DEMs.\n",
    "7. Using this set, obtain delta DEMs between consecutive DEMs, or as per requirement. \n",
    "8. Do summation over obtained Delta DEM and multiply by area of a pixel, as per scale to obtain volume. \n",
    "\n",
    "\n",
    "*Note- Steps with a * \\* *indicates that there are algorithms/variables to be tuned*"
   ]
  },
  {
   "cell_type": "code",
   "execution_count": 1,
   "metadata": {},
   "outputs": [
    {
     "data": {
      "text/html": [
       "<style> .rendered_html code { \n",
       "    padding: 2px 4px;\n",
       "    color: #c7254e;\n",
       "    background-color: #f9f2f4;\n",
       "    border-radius: 4px;\n",
       "} </style>"
      ],
      "text/plain": [
       "<IPython.core.display.HTML object>"
      ]
     },
     "execution_count": 1,
     "metadata": {},
     "output_type": "execute_result"
    }
   ],
   "source": [
    "import gdal\n",
    "import cv2\n",
    "from subprocess import call\n",
    "import numpy as np\n",
    "import matplotlib.pyplot as plt\n",
    "#Custom Written Scripts\n",
    "try:\n",
    "    import dem_proj as dp\n",
    "    import dem_filtering as df\n",
    "    import dem_perf_check as dpc\n",
    "    from raster_chunks import GeoChunks as gc \n",
    "    \n",
    "except ImportError:\n",
    "    print(\"Import Error. Check if dem_filtering.py is present in PYTHONPATH\")\n",
    "    print(\"PYTHONPATH = \")\n",
    "    call([\"echo\", \"$PYTHONPATH\"])\n",
    "\n",
    "# Bit of formatting to change default inline code style:\n",
    "from IPython.core.display import HTML\n",
    "HTML(\"\"\"<style> .rendered_html code { \n",
    "    padding: 2px 4px;\n",
    "    color: #c7254e;\n",
    "    background-color: #f9f2f4;\n",
    "    border-radius: 4px;\n",
    "} </style>\"\"\")"
   ]
  },
  {
   "cell_type": "code",
   "execution_count": null,
   "metadata": {
    "collapsed": true
   },
   "outputs": [],
   "source": []
  },
  {
   "cell_type": "markdown",
   "metadata": {
    "collapsed": true
   },
   "source": [
    "Setting up PATH variables. \n",
    "\n",
    "We will continue to set up PATH variables, as and when necessary.\n",
    "\n"
   ]
  },
  {
   "cell_type": "code",
   "execution_count": 2,
   "metadata": {
    "collapsed": true
   },
   "outputs": [],
   "source": [
    "PATH_PREFIX = \"/home/madhavm/vimana/workdir/rough/cs_volume_2/final_proc/UTM/\"\n",
    "feb14_dem = PATH_PREFIX + \"14feb2017_VC_dem.tif\"\n",
    "may09_dem = PATH_PREFIX + \"09may2017_VC_dem.tif\"\n",
    "june16_dem = PATH_PREFIX + \"16june2017_VC_dem.tif\"\n",
    "apr29_dem = PATH_PREFIX + \"29apr2017_VC_dem.tif\"\n",
    "may15_dem = PATH_PREFIX + \"15may2017_VC_dem.tif\"\n",
    "may20_dem = PATH_PREFIX + \"20may2017_VC_dem.tif\"\n",
    "june03_dem = PATH_PREFIX + \"03june2017_VC_dem.tif\""
   ]
  },
  {
   "cell_type": "code",
   "execution_count": 7,
   "metadata": {
    "collapsed": true
   },
   "outputs": [],
   "source": [
    "\n",
    "t1 = gc(feb14_dem)\n",
    "t2 = gc(apr29_dem)\n",
    "t3 = gc(may09_dem)\n",
    "t4 = gc(may15_dem)\n",
    "t5 = gc(may20_dem)\n",
    "t6 = gc(june03_dem)\n",
    "t7 = gc(june16_dem)\n",
    "\n",
    "#Pixel Areas\n",
    "err_t1 = t1.geo_trans[1] ** 2\n",
    "err_t2 = t2.geo_trans[1] ** 2\n",
    "err_t3 = t3.geo_trans[1] ** 2\n",
    "err_t4 = t4.geo_trans[1] ** 2\n",
    "err_t5 = t5.geo_trans[1] ** 2\n",
    "err_t6 = t6.geo_trans[1] ** 2\n",
    "err_t7 = t7.geo_trans[1] ** 2\n"
   ]
  },
  {
   "cell_type": "code",
   "execution_count": 9,
   "metadata": {},
   "outputs": [
    {
     "name": "stdout",
     "output_type": "stream",
     "text": [
      "All volumes are in cubic metres - \n",
      "\n",
      "Volume excavated between 14th February and 9th May - 1406.06399128\n",
      "Error is +/- 5208.29419789\n",
      "Volume excavated between 14th february and 16th June - 8282.43484556\n",
      "Error is +/- 7832.76061082\n",
      "Volume excavated between session 1 and session 4 - 7909.8146093\n",
      "Volume excavated between session 1 and session 5 - 13494.6370977\n",
      "Volume excavated between session 1 and session 6 - 16111.2501685\n",
      "Volume excavated between session 1 and session 6 - 21262.6806049\n",
      "\n",
      "Delta Volumes from consecutive sessions..\n",
      "\n",
      "Volume excavated between 9th May and 16th June - 6876.37085428\n",
      "Error is +/- 7955.49781393\n",
      "Volume excavated between session 3 and session 4 - -372.620236264\n",
      "Volume excavated between session 4 and session 5 - 5584.82248835\n",
      "Volume excavated between session 5 and session 6 - 2616.61307084\n",
      "Volume excavated between session 5 and session 6 - 5151.43043645\n"
     ]
    }
   ],
   "source": [
    "m2_vol_t1 = df.volumeRefPlane(feb14_dem)\n",
    "m2_vol_t2 = df.volumeRefPlane(apr29_dem)\n",
    "m2_vol_t3 = df.volumeRefPlane(may09_dem)\n",
    "m2_vol_t4 = df.volumeRefPlane(may15_dem)\n",
    "m2_vol_t5 = df.volumeRefPlane(may20_dem)\n",
    "m2_vol_t6 = df.volumeRefPlane(june03_dem)\n",
    "m2_vol_t7 = df.volumeRefPlane(june16_dem)\n",
    "\n",
    "err_vol_t1 = df.sumPixDEM(feb14_dem) * err_t1\n",
    "err_vol_t2 = df.sumPixDEM(may09_dem) *err_t2\n",
    "err_vol_t3 = df.sumPixDEM(june16_dem) * err_t3\n",
    "\n",
    "print(\"All volumes are in cubic metres - \\n\")\n",
    "print(\"Volume excavated between 14th February and 9th May - \" + str(m2_vol_t1 - m2_vol_t2))\n",
    "print(\"Error is +/- \" + str(err_vol_t1))\n",
    "print(\"Volume excavated between 14th february and 16th June - \" + str(m2_vol_t1 - m2_vol_t3))\n",
    "print(\"Error is +/- \" + str(err_vol_t1 + err_vol_t3))\n",
    "print(\"Volume excavated between session 1 and session 4 - \" + str(m2_vol_t1 - m2_vol_t4))\n",
    "print(\"Volume excavated between session 1 and session 5 - \" + str(m2_vol_t1 - m2_vol_t5))\n",
    "print(\"Volume excavated between session 1 and session 6 - \" + str(m2_vol_t1 - m2_vol_t6))\n",
    "print(\"Volume excavated between session 1 and session 6 - \" + str(m2_vol_t1 - m2_vol_t7))\n",
    "\n",
    "print(\"\\nDelta Volumes from consecutive sessions..\\n\")\n",
    "print(\"Volume excavated between 9th May and 16th June - \" + str(m2_vol_t2 - m2_vol_t3))\n",
    "print(\"Error is +/- \" + str(err_vol_t3 + err_vol_t2))\n",
    "print(\"Volume excavated between session 3 and session 4 - \" + str(m2_vol_t3 - m2_vol_t4))\n",
    "print(\"Volume excavated between session 4 and session 5 - \" + str(m2_vol_t4 - m2_vol_t5))\n",
    "print(\"Volume excavated between session 5 and session 6 - \" + str(m2_vol_t5 - m2_vol_t6))\n",
    "print(\"Volume excavated between session 5 and session 6 - \" + str(m2_vol_t6 - m2_vol_t7))\n"
   ]
  },
  {
   "cell_type": "code",
   "execution_count": 10,
   "metadata": {},
   "outputs": [
    {
     "name": "stdout",
     "output_type": "stream",
     "text": [
      "5208.29419789\n",
      "5331.031401\n",
      "2624.46641293\n"
     ]
    }
   ],
   "source": [
    "print(err_vol_t1)\n",
    "print(err_vol_t2)\n",
    "print(err_vol_t3)\n"
   ]
  },
  {
   "cell_type": "code",
   "execution_count": null,
   "metadata": {
    "collapsed": true
   },
   "outputs": [],
   "source": []
  }
 ],
 "metadata": {
  "kernelspec": {
   "display_name": "Python [conda env:vimana]",
   "language": "python",
   "name": "conda-env-vimana-py"
  },
  "language_info": {
   "codemirror_mode": {
    "name": "ipython",
    "version": 3
   },
   "file_extension": ".py",
   "mimetype": "text/x-python",
   "name": "python",
   "nbconvert_exporter": "python",
   "pygments_lexer": "ipython3",
   "version": "3.5.3"
  }
 },
 "nbformat": 4,
 "nbformat_minor": 2
}
