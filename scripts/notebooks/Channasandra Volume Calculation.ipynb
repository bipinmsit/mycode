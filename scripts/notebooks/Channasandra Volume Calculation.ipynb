{
 "cells": [
  {
   "cell_type": "markdown",
   "metadata": {},
   "source": [
    "This notebook will be a tutorial in how to calculate volume, as a difference between consecutive DEMs.\n",
    "A rough overview of the steps to be followed is given below-\n",
    "1. Sort DEMs in chronological order. \n",
    "2. Inspect DEMs and Mosaics to check for distortions. \n",
    "3. Create Vector Mask to remove Areas with distortions. \n",
    "4. Mask original DEM with created vector mask. \n",
    "5. Use grass's `r.fillnulls` command to create the gaps left by the masked distortions. \n",
    "6. Obtain set of error free DEMs.\n",
    "7. Using this set, obtain delta DEMs between consecutive DEMs, or as per requirement. \n",
    "8. Do summation over obtained Delta DEM and multiply by area of a pixel, as per scale to obtain volume. \n",
    "\n",
    "\n",
    "*Note- Steps with a * \\* *indicates that there are algorithms/variables to be tuned*"
   ]
  },
  {
   "cell_type": "code",
   "execution_count": 1,
   "metadata": {},
   "outputs": [
    {
     "data": {
      "text/html": [
       "<style> .rendered_html code { \n",
       "    padding: 2px 4px;\n",
       "    color: #c7254e;\n",
       "    background-color: #f9f2f4;\n",
       "    border-radius: 4px;\n",
       "} </style>"
      ],
      "text/plain": [
       "<IPython.core.display.HTML object>"
      ]
     },
     "execution_count": 1,
     "metadata": {},
     "output_type": "execute_result"
    }
   ],
   "source": [
    "import gdal\n",
    "import cv2\n",
    "from subprocess import call\n",
    "import numpy as np\n",
    "import matplotlib.pyplot as plt\n",
    "#Custom Written Scripts\n",
    "try:\n",
    "    import dem_proj as dp\n",
    "    import dem_filtering as df\n",
    "    import dem_perf_check as dpc\n",
    "    from raster_chunks import GeoChunks as gc \n",
    "    \n",
    "except ImportError:\n",
    "    print(\"Import Error. Check if dem_filtering.py is present in PYTHONPATH\")\n",
    "    print(\"PYTHONPATH = \")\n",
    "    call([\"echo\", \"$PYTHONPATH\"])\n",
    "\n",
    "# Bit of formatting to change default inline code style:\n",
    "from IPython.core.display import HTML\n",
    "HTML(\"\"\"<style> .rendered_html code { \n",
    "    padding: 2px 4px;\n",
    "    color: #c7254e;\n",
    "    background-color: #f9f2f4;\n",
    "    border-radius: 4px;\n",
    "} </style>\"\"\")"
   ]
  },
  {
   "cell_type": "markdown",
   "metadata": {
    "collapsed": true
   },
   "source": [
    "Setting up PATH variables. \n",
    "\n",
    "We will continue to set up PATH variables, as and when necessary.\n",
    "\n"
   ]
  },
  {
   "cell_type": "code",
   "execution_count": 2,
   "metadata": {
    "collapsed": true
   },
   "outputs": [],
   "source": [
    "PATH_PREFIX = \"/home/madhavm/vimana/workdir/rough/cs_volume_2/\"\n",
    "t1_dem = PATH_PREFIX + \"T_F_t1_dem.tif\"\n",
    "t2_dem = PATH_PREFIX + \"T_F_t2_dem.tif\"\n",
    "#T3 DEM is yet to be processed.\n",
    "#t3_dem = PATH_PREFIX + \"T_F_t3_dem.tif\"\n",
    "t4_dem = PATH_PREFIX + \"T_F_t4_dem.tif\"\n",
    "t5_dem = PATH_PREFIX + \"T_F_t5_dem.tif\"\n",
    "t6_dem = PATH_PREFIX + \"T_F_t6_dem.tif\"\n",
    "pixel_area = 0.027606668620293 ** 2"
   ]
  },
  {
   "cell_type": "markdown",
   "metadata": {},
   "source": [
    "Next, we ensure that all the DEMs have the same extent and resolution,  \n",
    "to ensure that the Delta DEM calculated does not throw any unexpected errors. "
   ]
  },
  {
   "cell_type": "code",
   "execution_count": 3,
   "metadata": {
    "collapsed": true
   },
   "outputs": [],
   "source": [
    "dpc.match_shape_DEM(referenceDEM=t1_dem,terrainDEM=t2_dem)\n",
    "#dpc.match_shape_DEM(referenceDEM=t1_dem,terrainDEM=t3_dem)\n",
    "dpc.match_shape_DEM(referenceDEM=t1_dem,terrainDEM=t4_dem)\n",
    "dpc.match_shape_DEM(referenceDEM=t1_dem,terrainDEM=t5_dem)\n",
    "dpc.match_shape_DEM(referenceDEM=t1_dem,terrainDEM=t6_dem)"
   ]
  },
  {
   "cell_type": "markdown",
   "metadata": {},
   "source": [
    "Now, all DEMs have the same resolution and extent, so we can proceed  \n",
    "to calculate the Delta DEMs. Before calculation, we first set the  \n",
    "PATH variables.\n"
   ]
  },
  {
   "cell_type": "code",
   "execution_count": 3,
   "metadata": {
    "collapsed": true
   },
   "outputs": [],
   "source": [
    "t1_t2_delta = PATH_PREFIX + \"D_t1_t2.tif\"\n",
    "#t1_t3_delta = PATH_PREFIX + \"D_t1_t3.tif\"\n",
    "t1_t4_delta = PATH_PREFIX + \"D_t1_t4.tif\"\n",
    "t1_t5_delta = PATH_PREFIX + \"D_t1_t5.tif\"\n",
    "t1_t6_delta = PATH_PREFIX + \"D_t1_t6.tif\"\n",
    "#Delta DEMs between consecutive sessions\n",
    "\n",
    "#t2_t3_delta = PATH_PREFIX + \"D_t2_t3.tif\"\n",
    "#t3_t4_delta = PATH_PREFIX + \"D_t3_t4.tif\"\n",
    "t4_t5_delta = PATH_PREFIX + \"D_t4_t5.tif\"\n",
    "t5_t6_delta = PATH_PREFIX + \"D_t5_t6.tif\""
   ]
  },
  {
   "cell_type": "markdown",
   "metadata": {},
   "source": [
    "Now, for Delta DEM processing."
   ]
  },
  {
   "cell_type": "code",
   "execution_count": 5,
   "metadata": {
    "collapsed": true
   },
   "outputs": [],
   "source": [
    "dpc.create_delta_DEM(referenceDEM=t1_dem,terrainDEM=t2_dem,deltaDEM=t1_t2_delta)\n",
    "#dpc.create_delta_DEM(referenceDEM=t1_dem,terrainDEM=t3_dem,deltaDEM=t1_t3_delta)\n",
    "dpc.create_delta_DEM(referenceDEM=t1_dem,terrainDEM=t4_dem,deltaDEM=t1_t4_delta)\n",
    "dpc.create_delta_DEM(referenceDEM=t1_dem,terrainDEM=t5_dem,deltaDEM=t1_t5_delta)\n",
    "dpc.create_delta_DEM(referenceDEM=t1_dem,terrainDEM=t6_dem,deltaDEM=t1_t6_delta)\n",
    "\n",
    "#Delta DEMs between consecutive sessions\n",
    "\n",
    "#dpc.create_delta_DEM(referenceDEM=t2_dem,terrainDEM=t3_dem,deltaDEM=t2_t3_delta)\n",
    "#dpc.create_delta_DEM(referenceDEM=t3_dem,terrainDEM=t4_dem,deltaDEM=t3_t4_delta)\n",
    "dpc.create_delta_DEM(referenceDEM=t4_dem,terrainDEM=t5_dem,deltaDEM=t4_t5_delta)\n",
    "dpc.create_delta_DEM(referenceDEM=t5_dem,terrainDEM=t6_dem,deltaDEM=t5_t6_delta)"
   ]
  },
  {
   "cell_type": "code",
   "execution_count": 4,
   "metadata": {
    "collapsed": true
   },
   "outputs": [],
   "source": [
    "mask_area = PATH_PREFIX + \"excav_area_WGS84.shp\"\n",
    "masked_t1_t2_delta = PATH_PREFIX + \"M_D_1_t2.tif\"\n",
    "#masked_t1_t3_delta = PATH_PREFIX + \"M_D_t1_t3.tif\"\n",
    "masked_t1_t4_delta = PATH_PREFIX + \"M_D_t1_t4.tif\"\n",
    "masked_t1_t5_delta = PATH_PREFIX + \"M_D_t1_t5.tif\"\n",
    "masked_t1_t6_delta = PATH_PREFIX + \"M_D_t1_t6.tif\"\n",
    "#Delta DEMs between consecutive sessions\n",
    "\n",
    "#masked_t2_t3_delta = PATH_PREFIX + \"M_D_t2_t3.tif\"\n",
    "#masked_t3_t4_delta = PATH_PREFIX + \"M_D_t3_t4.tif\"\n",
    "masked_t4_t5_delta = PATH_PREFIX + \"M_D_t4_t5.tif\"\n",
    "masked_t5_t6_delta = PATH_PREFIX + \"M_D_t5_t6.tif\""
   ]
  },
  {
   "cell_type": "code",
   "execution_count": 10,
   "metadata": {},
   "outputs": [
    {
     "name": "stdout",
     "output_type": "stream",
     "text": [
      "Mask Operation Completed.\n",
      "Output file present at /home/madhavm/vimana/rough/cs_volume/volume_proc/M_D_1_t2.tif\n",
      "Mask Operation Completed.\n",
      "Output file present at /home/madhavm/vimana/rough/cs_volume/volume_proc/M_D_t1_t4.tif\n",
      "Mask Operation Completed.\n",
      "Output file present at /home/madhavm/vimana/rough/cs_volume/volume_proc/M_D_t1_t5.tif\n",
      "Mask Operation Completed.\n",
      "Output file present at /home/madhavm/vimana/rough/cs_volume/volume_proc/M_D_t1_t6.tif\n",
      "Mask Operation Completed.\n",
      "Output file present at /home/madhavm/vimana/rough/cs_volume/volume_proc/M_D_t4_t5.tif\n",
      "Mask Operation Completed.\n",
      "Output file present at /home/madhavm/vimana/rough/cs_volume/volume_proc/M_D_t5_t6.tif\n"
     ]
    }
   ],
   "source": [
    "#dpc.applyMask(baseDEM=input_DEM, maskDEM=masked_DEM,maskPoly=input_trim)\n",
    "dpc.apply_mask_poly(baseDEM=t1_t2_delta, maskDEM=masked_t1_t2_delta,maskPoly=mask_area)\n",
    "#dpc.apply_mask_poly(baseDEM=t1_t3_delta, maskDEM=masked_t1_t3_delta,maskPoly=mask_area)\n",
    "dpc.apply_mask_poly(baseDEM=t1_t4_delta, maskDEM=masked_t1_t4_delta,maskPoly=mask_area)\n",
    "dpc.apply_mask_poly(baseDEM=t1_t5_delta, maskDEM=masked_t1_t5_delta,maskPoly=mask_area)\n",
    "dpc.apply_mask_poly(baseDEM=t1_t6_delta, maskDEM=masked_t1_t6_delta,maskPoly=mask_area)\n",
    "#Delta DEMs between consecutive sessions\n",
    "\n",
    "#dpc.apply_mask_poly(baseDEM=t2_t3_delta, maskDEM=masked_t2_t3_delta,maskPoly=mask_area)\n",
    "#dpc.apply_mask_poly(baseDEM=t3_t4_delta, maskDEM=masked_t3_t4_delta,maskPoly=mask_area)\n",
    "dpc.apply_mask_poly(baseDEM=t4_t5_delta, maskDEM=masked_t4_t5_delta,maskPoly=mask_area)\n",
    "dpc.apply_mask_poly(baseDEM=t5_t6_delta, maskDEM=masked_t5_t6_delta,maskPoly=mask_area)\n"
   ]
  },
  {
   "cell_type": "code",
   "execution_count": 5,
   "metadata": {
    "collapsed": true
   },
   "outputs": [],
   "source": [
    "fixed_t1_t2_delta = PATH_PREFIX + \"F_D_1_t2.tif\"\n",
    "#fixed_t1_t3_delta = PATH_PREFIX + \"F_D_t1_t3.tif\"\n",
    "fixed_t1_t4_delta = PATH_PREFIX + \"F_D_t1_t4.tif\"\n",
    "fixed_t1_t5_delta = PATH_PREFIX + \"F_D_t1_t5.tif\"\n",
    "fixed_t1_t6_delta = PATH_PREFIX + \"F_D_t1_t6.tif\"\n",
    "#Delta DEMs between consecutive sessions\n",
    "\n",
    "#fixed_t2_t3_delta = PATH_PREFIX + \"F_D_t2_t3.tif\"\n",
    "#fixed_t3_t4_delta = PATH_PREFIX + \"F_D_t3_t4.tif\"\n",
    "fixed_t4_t5_delta = PATH_PREFIX + \"F_D_t4_t5.tif\"\n",
    "fixed_t5_t6_delta = PATH_PREFIX + \"F_D_t5_t6.tif\""
   ]
  },
  {
   "cell_type": "code",
   "execution_count": 15,
   "metadata": {},
   "outputs": [
    {
     "data": {
      "text/plain": [
       "True"
      ]
     },
     "execution_count": 15,
     "metadata": {},
     "output_type": "execute_result"
    }
   ],
   "source": [
    "df.maskDEM(mask_input=masked_t1_t2_delta, dem_input=masked_t1_t2_delta,file_output=fixed_t1_t2_delta,val_threshold=1000)\n",
    "#df.maskDEM(mask_input=masked_t1_t3_delta, dem_input=masked_t1_t3_delta,file_output=fixed_t1_t3_delta,val_threshold=1000)\n",
    "df.maskDEM(mask_input=masked_t1_t4_delta, dem_input=masked_t1_t4_delta,file_output=fixed_t1_t4_delta,val_threshold=1000)\n",
    "df.maskDEM(mask_input=masked_t1_t5_delta, dem_input=masked_t1_t5_delta,file_output=fixed_t1_t5_delta,val_threshold=1000)\n",
    "df.maskDEM(mask_input=masked_t1_t6_delta, dem_input=masked_t1_t6_delta,file_output=fixed_t1_t6_delta,val_threshold=1000)\n",
    "#Delta DEMs between consecutive sessions\n",
    "\n",
    "#df.maskDEM(mask_input=masked_t2_t3_delta, dem_input=masked_t2_t3_delta,file_output=fixed_t2_t3_delta,val_threshold=1000)\n",
    "#df.maskDEM(mask_input=masked_t3_t4_delta, dem_input=masked_t3_t4_delta,file_output=fixed_t3_t4_delta,val_threshold=1000)\n",
    "df.maskDEM(mask_input=masked_t4_t5_delta, dem_input=masked_t4_t5_delta,file_output=fixed_t4_t5_delta,val_threshold=1000)\n",
    "df.maskDEM(mask_input=masked_t5_t6_delta, dem_input=masked_t5_t6_delta,file_output=fixed_t5_t6_delta,val_threshold=1000)"
   ]
  },
  {
   "cell_type": "code",
   "execution_count": 8,
   "metadata": {},
   "outputs": [
    {
     "name": "stdout",
     "output_type": "stream",
     "text": [
      "All volumes are in cubic metres - \n",
      "\n",
      "Volume excavated between session 1 and session 2 - 1893.14768114\n",
      "Volume excavated between session 1 and session 4 - 3626.72097849\n",
      "Volume excavated between session 1 and session 5 - 16282.8064202\n",
      "Volume excavated between session 1 and session 6 - 19085.2615399\n",
      "\n",
      "Delta Volumes from consecutive sessions..\n",
      "\n",
      "Volume excavated between session 4 and session 5 - 12656.0430483\n",
      "Volume excavated between session 5 and session 6 - 2802.48688173\n"
     ]
    }
   ],
   "source": [
    "vol_t1_t2 = df.sumDEM(fixed_t1_t2_delta) * pixel_area\n",
    "#vol_t1_t3 = df.sumDEM(fixed_t1_t3_delta) * pixel_area\n",
    "vol_t1_t4 = df.sumDEM(fixed_t1_t4_delta) * pixel_area\n",
    "vol_t1_t5 = df.sumDEM(fixed_t1_t5_delta) * pixel_area\n",
    "vol_t1_t6 = df.sumDEM(fixed_t1_t6_delta) * pixel_area\n",
    "\n",
    "#vol_t2_t3 = df.sumDEM(fixed_t2_t3_delta) * pixel_area\n",
    "#vol_t3_t4 = df.sumDEM(fixed_t3_t4_delta) * pixel_area\n",
    "vol_t4_t5 = df.sumDEM(fixed_t4_t5_delta) * pixel_area\n",
    "vol_t5_t6 = df.sumDEM(fixed_t5_t6_delta) * pixel_area\n",
    "\n",
    "print(\"All volumes are in cubic metres - \\n\")\n",
    "print(\"Volume excavated between session 1 and session 2 - \" + str(vol_t1_t2))\n",
    "#print(\"Volume excavated between session 1 and session 3 - \" + str(vol_t1_t3))\n",
    "print(\"Volume excavated between session 1 and session 4 - \" + str(vol_t1_t4))\n",
    "print(\"Volume excavated between session 1 and session 5 - \" + str(vol_t1_t5))\n",
    "print(\"Volume excavated between session 1 and session 6 - \" + str(vol_t1_t6))\n",
    "\n",
    "print(\"\\nDelta Volumes from consecutive sessions..\\n\")\n",
    "#print(\"Volume excavated between session 2 and session 3 - \" + str(vol_t2_t3))\n",
    "#print(\"Volume excavated between session 3 and session 4 - \" + str(vol_t3_t4))\n",
    "print(\"Volume excavated between session 4 and session 5 - \" + str(vol_t4_t5))\n",
    "print(\"Volume excavated between session 5 and session 6 - \" + str(vol_t5_t6))\n"
   ]
  },
  {
   "cell_type": "code",
   "execution_count": null,
   "metadata": {
    "collapsed": true
   },
   "outputs": [],
   "source": []
  },
  {
   "cell_type": "markdown",
   "metadata": {
    "collapsed": true
   },
   "source": [
    "Approaching the problem with a different approach,  "
   ]
  },
  {
   "cell_type": "code",
   "execution_count": 3,
   "metadata": {
    "collapsed": true
   },
   "outputs": [],
   "source": [
    "utm_t1_dem = PATH_PREFIX + \"UTM/t1_dem.tif\"\n",
    "utm_t2_dem = PATH_PREFIX + \"UTM/t2_dem.tif\"\n",
    "#utm_t3_dem = PATH_PREFIX + \"UTM/t3_dem.tif\"\n",
    "utm_t4_dem = PATH_PREFIX + \"UTM/t4_dem.tif\"\n",
    "utm_t5_dem = PATH_PREFIX + \"UTM/t5_dem.tif\"\n",
    "utm_t6_dem = PATH_PREFIX + \"UTM/t6_dem.tif\"\n"
   ]
  },
  {
   "cell_type": "code",
   "execution_count": 4,
   "metadata": {
    "collapsed": true
   },
   "outputs": [],
   "source": [
    "t1 = gc(utm_t1_dem)\n",
    "t2 = gc(utm_t2_dem)\n",
    "#t3 = gc(utm_t3_dem)\n",
    "t4 = gc(utm_t4_dem)\n",
    "t5 = gc(utm_t5_dem)\n",
    "t6 = gc(utm_t6_dem)\n",
    "\n",
    "pa_t1 = t1.geo_trans[1] ** 2\n",
    "pa_t2 = t2.geo_trans[1] ** 2\n",
    "#pa_t3 = t3.geo_trans[1] ** 2\n",
    "pa_t4 = t4.geo_trans[1] ** 2\n",
    "pa_t5 = t5.geo_trans[1] ** 2\n",
    "pa_t6 = t6.geo_trans[1] ** 2\n"
   ]
  },
  {
   "cell_type": "code",
   "execution_count": 5,
   "metadata": {},
   "outputs": [
    {
     "name": "stdout",
     "output_type": "stream",
     "text": [
      "All volumes are in cubic metres - \n",
      "\n",
      "Volume excavated between session 1 and session 2 - 1894.49674766\n",
      "Volume excavated between session 1 and session 4 - 3630.29215387\n",
      "Volume excavated between session 1 and session 5 - 16302.7828132\n",
      "Volume excavated between session 1 and session 6 - 19091.6169702\n",
      "\n",
      "Delta Volumes from consecutive sessions..\n",
      "\n",
      "Volume excavated between session 4 and session 5 - 12672.4906593\n",
      "Volume excavated between session 5 and session 6 - 2788.83415697\n"
     ]
    }
   ],
   "source": [
    "m2_vol_t1 = df.sumDEM(utm_t1_dem) * pa_t1\n",
    "m2_vol_t2 = df.sumDEM(utm_t2_dem) * pa_t2\n",
    "#m2_vol_t3 = df.sumDEM(utm_t3_dem) * pa_t3\n",
    "m2_vol_t4 = df.sumDEM(utm_t4_dem) * pa_t4\n",
    "m2_vol_t5 = df.sumDEM(utm_t5_dem) * pa_t5\n",
    "m2_vol_t6 = df.sumDEM(utm_t6_dem) * pa_t6\n",
    "\n",
    "print(\"All volumes are in cubic metres - \\n\")\n",
    "print(\"Volume excavated between session 1 and session 2 - \" + str(m2_vol_t1 - m2_vol_t2))\n",
    "#print(\"Volume excavated between session 1 and session 3 - \" + str(m2_vol_t1 - m2_vol_t3))\n",
    "print(\"Volume excavated between session 1 and session 4 - \" + str(m2_vol_t1 - m2_vol_t4))\n",
    "print(\"Volume excavated between session 1 and session 5 - \" + str(m2_vol_t1 - m2_vol_t5))\n",
    "print(\"Volume excavated between session 1 and session 6 - \" + str(m2_vol_t1 - m2_vol_t6))\n",
    "\n",
    "print(\"\\nDelta Volumes from consecutive sessions..\\n\")\n",
    "#print(\"Volume excavated between session 2 and session 3 - \" + str(m2_vol_t2 - m2_vol_t3))\n",
    "#print(\"Volume excavated between session 3 and session 4 - \" + str(m2_vol_t3 - m2_vol_t4))\n",
    "print(\"Volume excavated between session 4 and session 5 - \" + str(m2_vol_t4 - m2_vol_t5))\n",
    "print(\"Volume excavated between session 5 and session 6 - \" + str(m2_vol_t5 - m2_vol_t6))\n"
   ]
  },
  {
   "cell_type": "code",
   "execution_count": null,
   "metadata": {
    "collapsed": true
   },
   "outputs": [],
   "source": []
  }
 ],
 "metadata": {
  "kernelspec": {
   "display_name": "Python [conda env:vimana]",
   "language": "python",
   "name": "conda-env-vimana-py"
  },
  "language_info": {
   "codemirror_mode": {
    "name": "ipython",
    "version": 3
   },
   "file_extension": ".py",
   "mimetype": "text/x-python",
   "name": "python",
   "nbconvert_exporter": "python",
   "pygments_lexer": "ipython3",
   "version": "3.5.3"
  }
 },
 "nbformat": 4,
 "nbformat_minor": 2
}
