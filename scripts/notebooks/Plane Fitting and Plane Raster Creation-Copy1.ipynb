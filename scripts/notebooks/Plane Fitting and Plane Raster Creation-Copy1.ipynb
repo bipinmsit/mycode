{
 "cells": [
  {
   "cell_type": "code",
   "execution_count": 1,
   "metadata": {
    "collapsed": true
   },
   "outputs": [],
   "source": [
    "import csv\n",
    "import numpy as np\n",
    "from raster_chunks import GeoChunks as gc\n",
    "import vector_processing.point_processing as pp\n",
    "import osr\n",
    "import ogr\n",
    "import gdal\n",
    "import json"
   ]
  },
  {
   "cell_type": "code",
   "execution_count": 12,
   "metadata": {},
   "outputs": [
    {
     "data": {
      "text/plain": [
       "2"
      ]
     },
     "execution_count": 12,
     "metadata": {},
     "output_type": "execute_result"
    }
   ],
   "source": [
    "a = np.array([[2,4],[5,6]])\n",
    "b = np.array([1,1])\n",
    "len(a)"
   ]
  },
  {
   "cell_type": "code",
   "execution_count": 8,
   "metadata": {},
   "outputs": [],
   "source": [
    "test_dem_file = '/home/madhavm/Desktop/out/test.tif'\n",
    "points_file = '/home/madhavm/Desktop/out/points.shp'\n",
    "test_dem = gc(test_dem_file)\n",
    "band = test_dem.data_bands[0]\n",
    "driver_name = \"ESRI Shapefile\"\n",
    "driver = ogr.GetDriverByName(driver_name)\n",
    "points = driver.Open(points_file)\n",
    "p_layer = points.GetLayerByIndex(0)"
   ]
  },
  {
   "cell_type": "code",
   "execution_count": 9,
   "metadata": {},
   "outputs": [
    {
     "name": "stdout",
     "output_type": "stream",
     "text": [
      "Geotransform of Raster is \n",
      "(804310.6262082695, 0.025915953802961796, 0.0, 1438219.3337231458, 0.0, -0.025915953802961796)\n",
      "Raster projection is \n",
      "32643\n",
      "Points file projection is \n",
      "32643\n"
     ]
    }
   ],
   "source": [
    "print('Geotransform of Raster is ')\n",
    "print(test_dem.geo_trans)\n",
    "\n",
    "print('Raster projection is ')\n",
    "ref = osr.SpatialReference()\n",
    "ref.ImportFromWkt(test_dem.data_gtif.GetProjectionRef())\n",
    "raster_EPSG = int(ref.GetAttrValue('AUTHORITY',1))\n",
    "print(raster_EPSG)\n",
    "\n",
    "print('Points file projection is ')\n",
    "points_EPSG = int(points.GetLayerByIndex(0).GetSpatialRef().GetAttrValue('AUTHORITY',1))\n",
    "print(points_EPSG)\n",
    "if raster_EPSG != points_EPSG:\n",
    "    print('Coordinate Systems are not the same. Do not proceed with sampling')"
   ]
  },
  {
   "cell_type": "code",
   "execution_count": 10,
   "metadata": {},
   "outputs": [
    {
     "name": "stdout",
     "output_type": "stream",
     "text": [
      "[ 3335.80941639  3364.82484144]\n",
      "[[ 883.59716797]]\n",
      "[ 3508.5257684   3450.79898759]\n",
      "[[ 883.99151611]]\n",
      "[ 3681.24215901  3536.77317233]\n",
      "[[ 883.80743408]]\n",
      "[ 3853.95854962  3622.74735707]\n",
      "[[ 883.50286865]]\n",
      "[ 4026.67490164  3708.72154181]\n",
      "[[ 883.47424316]]\n",
      "[ 4199.39129225  3794.69572655]\n",
      "[[ 883.72387695]]\n",
      "[ 4372.10768286  3880.66987272]\n",
      "[[ 883.63085938]]\n",
      "[ 4544.82403488  3966.64405746]\n",
      "[[ 884.60748291]]\n",
      "[ 4717.54042549  4052.6182422 ]\n",
      "[[ 883.61462402]]\n",
      "[ 4890.25681609  4138.59242694]\n",
      "[[ 883.58673096]]\n",
      "[ 5062.97316811  4224.56661168]\n",
      "[[ 883.47662354]]\n",
      "[ 5235.68955872  4310.54075783]\n",
      "[[ 883.36230469]]\n",
      "[ 5408.40594933  4396.51494257]\n",
      "[[ 883.43145752]]\n",
      "[ 5581.12233994  4482.48912731]\n",
      "[[ 883.52667236]]\n",
      "[ 5753.83869196  4568.46331206]\n",
      "[[ 883.65435791]]\n",
      "[ 6026.52115056  4704.19827388]\n",
      "[[ 883.75219727]]\n",
      "[ 5980.90619813  4891.65967456]\n",
      "[[ 883.8260498]]\n",
      "[ 5935.29124569  5079.12111384]\n",
      "[[ 883.91717529]]\n",
      "[ 5889.67633185  5266.58251452]\n",
      "[[ 884.04803467]]\n",
      "[ 5844.06137941  5454.04391521]\n",
      "[[ 883.98144531]]\n",
      "[ 5798.44642698  5641.50535448]\n",
      "[[ 883.99389648]]\n",
      "[ 5752.83147454  5828.96675516]\n",
      "[[ 884.04901123]]\n",
      "[ 5707.21652211  6016.42819443]\n",
      "[[ 884.04144287]]\n",
      "[ 5661.60160826  6203.88959512]\n",
      "[[ 884.02850342]]\n",
      "[ 5592.72253039  6486.95832011]\n",
      "[[ 883.99285889]]\n",
      "[ 5405.29072538  6441.22193669]\n",
      "[[ 883.91162109]]\n",
      "[ 5217.85888178  6395.48555326]\n",
      "[[ 884.02294922]]\n",
      "[ 5030.42707676  6349.74916983]\n",
      "[[ 884.00164795]]\n",
      "[ 4842.99523316  6304.0127864 ]\n",
      "[[ 884.0135498]]\n",
      "[ 4503.6103482  6221.1974281]\n",
      "[[ 884.14245605]]\n",
      "[ 4433.86639767  6401.08152712]\n",
      "[[ 884.14898682]]\n",
      "[ 4364.12244714  6580.96562613]\n",
      "[[ 884.13018799]]\n",
      "[ 4268.81841091  6826.77456099]\n",
      "[[ 884.28204346]]\n",
      "[ 4089.60856839  6755.31591377]\n",
      "[[ 884.27105713]]\n",
      "[ 3910.39872586  6683.85726656]\n",
      "[[ 884.36578369]]\n",
      "[ 3731.18888333  6612.39865793]\n",
      "[[ 884.42431641]]\n",
      "[ 3551.97900221  6540.94001072]\n",
      "[[ 884.42260742]]\n",
      "[ 3372.76915969  6469.48140209]\n",
      "[[ 884.49682617]]\n",
      "[ 2969.44613019  6308.65926791]\n",
      "[[ 884.70477295]]\n",
      "[ 2790.23628767  6237.20062069]\n",
      "[[ 884.71307373]]\n",
      "[ 2611.02644514  6165.74197348]\n",
      "[[ 884.94915771]]\n",
      "[ 2431.81660261  6094.28336486]\n",
      "[[ 884.73303223]]\n",
      "[ 2227.25299518  5982.67732396]\n",
      "[[ 885.38977051]]\n",
      "[ 2302.47800965  5805.0155626 ]\n",
      "[[ 885.24157715]]\n",
      "[ 2377.70302413  5627.35376265]\n",
      "[[ 884.95562744]]\n",
      "[ 2452.9280386   5449.69200128]\n",
      "[[ 884.80206299]]\n",
      "[ 2528.15305308  5272.03023993]\n",
      "[[ 884.84686279]]\n",
      "[ 2603.37806756  5094.36847857]\n",
      "[[ 884.7321167]]\n",
      "[ 2678.60308203  4916.7067172 ]\n",
      "[[ 884.55682373]]\n",
      "[ 2753.82809651  4739.04491725]\n",
      "[[ 884.47229004]]\n",
      "[ 2829.05311099  4561.38315589]\n",
      "[[ 884.4541626]]\n",
      "[ 2904.27812546  4383.72139454]\n",
      "[[ 884.42712402]]\n",
      "[ 2979.50313994  4206.05963317]\n",
      "[[ 884.28552246]]\n",
      "[ 3054.72811583  4028.39787181]\n",
      "[[ 884.13067627]]\n",
      "[ 3129.95313031  3850.73607186]\n",
      "[[ 884.00738525]]\n",
      "[ 3205.17814478  3673.0743105 ]\n",
      "[[ 883.74395752]]\n",
      "55\n"
     ]
    }
   ],
   "source": [
    "\n",
    "\n",
    "for i in range(p_layer.GetFeatureCount()):\n",
    "    ftr = p_layer[i]\n",
    "    geom = json.loads(ftr.GetGeometryRef().ExportToJson())\n",
    "    p_val = geom['coordinates']\n",
    "    p_val = [p_val[0] - ulx, p_val[1] - uly]\n",
    "    crds = np.array(p_val)/[test_dem.geo_trans[1],test_dem.geo_trans[5]]\n",
    "    print(crds)\n",
    "    print(band.ReadAsArray(int(np.floor(crds[0])),int(np.floor(crds[1])),1,1))\n",
    "print(i)"
   ]
  },
  {
   "cell_type": "markdown",
   "metadata": {},
   "source": [
    "[ 3335.80941639 -3364.82484144]\n",
    "[[ 883.59716797]]\n",
    "[ 3508.5257684  -3450.79898759]\n",
    "[[ 883.99151611]]\n",
    "[ 3681.24215901 -3536.77317233]\n",
    "[[ 883.80743408]]\n",
    "[ 3853.95854962 -3622.74735707]\n",
    "[[ 883.50286865]]\n",
    "[ 4026.67490164 -3708.72154181]\n",
    "[[ 883.47424316]]\n",
    "[ 4199.39129225 -3794.69572655]\n",
    "[[ 883.72387695]]\n",
    "[ 4372.10768286 -3880.66987272]\n",
    "[[ 883.63085938]]\n",
    "[ 4544.82403488 -3966.64405746]\n",
    "[[ 884.60748291]]\n",
    "[ 4717.54042549 -4052.6182422 ]\n",
    "[[ 883.61462402]]\n",
    "[ 4890.25681609 -4138.59242694]\n",
    "[[ 883.58673096]]\n",
    "[ 5062.97316811 -4224.56661168]\n",
    "[[ 883.47662354]]\n",
    "[ 5235.68955872 -4310.54075783]\n",
    "[[ 883.36230469]]\n",
    "[ 5408.40594933 -4396.51494257]\n",
    "[[ 883.43145752]]\n",
    "[ 5581.12233994 -4482.48912731]\n",
    "[[ 883.52667236]]\n",
    "[ 5753.83869196 -4568.46331206]\n",
    "[[ 883.65435791]]\n",
    "[ 6026.52115056 -4704.19827388]\n",
    "[[ 883.75219727]]\n",
    "[ 5980.90619813 -4891.65967456]\n",
    "[[ 883.8260498]]\n",
    "[ 5935.29124569 -5079.12111384]\n",
    "[[ 883.91717529]]\n",
    "[ 5889.67633185 -5266.58251452]\n",
    "[[ 884.04803467]]\n",
    "[ 5844.06137941 -5454.04391521]\n",
    "[[ 883.98144531]]\n",
    "[ 5798.44642698 -5641.50535448]\n",
    "[[ 883.99389648]]\n",
    "[ 5752.83147454 -5828.96675516]\n",
    "[[ 884.04901123]]\n",
    "[ 5707.21652211 -6016.42819443]\n",
    "[[ 884.04144287]]\n",
    "[ 5661.60160826 -6203.88959512]\n",
    "[[ 884.02850342]]\n",
    "[ 5592.72253039 -6486.95832011]\n",
    "[[ 883.99285889]]\n",
    "[ 5405.29072538 -6441.22193669]\n",
    "[[ 883.91162109]]\n",
    "[ 5217.85888178 -6395.48555326]\n",
    "[[ 884.02294922]]\n",
    "[ 5030.42707676 -6349.74916983]\n",
    "[[ 884.00164795]]\n",
    "[ 4842.99523316 -6304.0127864 ]\n",
    "[[ 884.0135498]]\n",
    "[ 4503.6103482 -6221.1974281]\n",
    "[[ 884.14245605]]\n",
    "[ 4433.86639767 -6401.08152712]\n",
    "[[ 884.14898682]]\n",
    "[ 4364.12244714 -6580.96562613]\n",
    "[[ 884.13018799]]\n",
    "[ 4268.81841091 -6826.77456099]\n",
    "[[ 884.28204346]]\n",
    "[ 4089.60856839 -6755.31591377]\n",
    "[[ 884.27105713]]\n",
    "[ 3910.39872586 -6683.85726656]\n",
    "[[ 884.36578369]]\n",
    "[ 3731.18888333 -6612.39865793]\n",
    "[[ 884.42431641]]\n",
    "[ 3551.97900221 -6540.94001072]\n",
    "[[ 884.42260742]]\n",
    "[ 3372.76915969 -6469.48140209]\n",
    "[[ 884.49682617]]\n",
    "[ 2969.44613019 -6308.65926791]\n",
    "[[ 884.70477295]]\n",
    "[ 2790.23628767 -6237.20062069]\n",
    "[[ 884.71307373]]\n",
    "[ 2611.02644514 -6165.74197348]\n",
    "[[ 884.94915771]]\n",
    "[ 2431.81660261 -6094.28336486]\n",
    "[[ 884.73303223]]\n",
    "[ 2227.25299518 -5982.67732396]\n",
    "[[ 885.38977051]]\n",
    "[ 2302.47800965 -5805.0155626 ]\n",
    "[[ 885.24157715]]\n",
    "[ 2377.70302413 -5627.35376265]\n",
    "[[ 884.95562744]]\n",
    "[ 2452.9280386  -5449.69200128]\n",
    "[[ 884.80206299]]\n",
    "[ 2528.15305308 -5272.03023993]\n",
    "[[ 884.84686279]]\n",
    "[ 2603.37806756 -5094.36847857]\n",
    "[[ 884.7321167]]\n",
    "[ 2678.60308203 -4916.7067172 ]\n",
    "[[ 884.55682373]]\n",
    "[ 2753.82809651 -4739.04491725]\n",
    "[[ 884.47229004]]\n",
    "[ 2829.05311099 -4561.38315589]\n",
    "[[ 884.4541626]]\n",
    "[ 2904.27812546 -4383.72139454]\n",
    "[[ 884.42712402]]\n",
    "[ 2979.50313994 -4206.05963317]\n",
    "[[ 884.28552246]]\n",
    "[ 3054.72811583 -4028.39787181]\n",
    "[[ 884.13067627]]\n",
    "[ 3129.95313031 -3850.73607186]\n",
    "[[ 884.00738525]]\n",
    "[ 3205.17814478 -3673.0743105 ]\n",
    "[[ 883.74395752]]"
   ]
  },
  {
   "cell_type": "code",
   "execution_count": 12,
   "metadata": {
    "collapsed": true
   },
   "outputs": [],
   "source": [
    "with open('./out_new.csv','r') as f:\n",
    "    rdr = csv.reader(f)\n",
    "    i = 0\n",
    "    arr = []\n",
    "    for row in rdr:\n",
    "        if i >= 1:\n",
    "            arr.append([float(row[1]),float(row[2]),float(row[0])])\n",
    "        i = i+1\n",
    "        "
   ]
  },
  {
   "cell_type": "code",
   "execution_count": 13,
   "metadata": {
    "collapsed": true
   },
   "outputs": [],
   "source": [
    "np_arr = np.array(arr)\n"
   ]
  },
  {
   "cell_type": "code",
   "execution_count": 21,
   "metadata": {
    "collapsed": true
   },
   "outputs": [],
   "source": [
    "xm = np.mean(np_arr[:,0])\n",
    "ym = np.mean(np_arr[:,1])\n",
    "zm = np.mean(np_arr[:,2])"
   ]
  },
  {
   "cell_type": "code",
   "execution_count": 29,
   "metadata": {
    "collapsed": true
   },
   "outputs": [],
   "source": [
    "i_arr = np.dstack((np_arr[:,0] - xm,np_arr[:,1] - ym, np_arr[:,2] - zm))"
   ]
  },
  {
   "cell_type": "code",
   "execution_count": 28,
   "metadata": {},
   "outputs": [
    {
     "data": {
      "text/plain": [
       "(56,)"
      ]
     },
     "execution_count": 28,
     "metadata": {},
     "output_type": "execute_result"
    }
   ],
   "source": [
    "(np_arr[:,0] - xm).shape"
   ]
  },
  {
   "cell_type": "code",
   "execution_count": 30,
   "metadata": {},
   "outputs": [
    {
     "data": {
      "text/plain": [
       "(1, 56, 3)"
      ]
     },
     "execution_count": 30,
     "metadata": {},
     "output_type": "execute_result"
    }
   ],
   "source": [
    "i_arr.shape"
   ]
  },
  {
   "cell_type": "code",
   "execution_count": 38,
   "metadata": {
    "collapsed": true
   },
   "outputs": [],
   "source": [
    "i2_arr = i_arr.reshape(np_arr.shape)"
   ]
  },
  {
   "cell_type": "code",
   "execution_count": 45,
   "metadata": {
    "collapsed": true
   },
   "outputs": [],
   "source": [
    "?np.linalg.svd"
   ]
  },
  {
   "cell_type": "code",
   "execution_count": 46,
   "metadata": {
    "collapsed": true
   },
   "outputs": [],
   "source": [
    "u,s,v = np.linalg.svd(i2_arr)"
   ]
  },
  {
   "cell_type": "code",
   "execution_count": 47,
   "metadata": {
    "collapsed": true
   },
   "outputs": [],
   "source": [
    "_v = np.linalg.inv(v)"
   ]
  },
  {
   "cell_type": "code",
   "execution_count": 48,
   "metadata": {},
   "outputs": [
    {
     "data": {
      "text/plain": [
       "(3, 3)"
      ]
     },
     "execution_count": 48,
     "metadata": {},
     "output_type": "execute_result"
    }
   ],
   "source": [
    "_v.shape"
   ]
  },
  {
   "cell_type": "code",
   "execution_count": 49,
   "metadata": {
    "collapsed": true
   },
   "outputs": [],
   "source": [
    "_n = np.zeros((3,1))"
   ]
  },
  {
   "cell_type": "code",
   "execution_count": 50,
   "metadata": {
    "collapsed": true
   },
   "outputs": [],
   "source": [
    "_n[2] = 1"
   ]
  },
  {
   "cell_type": "code",
   "execution_count": 51,
   "metadata": {
    "collapsed": true
   },
   "outputs": [],
   "source": [
    "_out = np.matmul(_v,_n)"
   ]
  },
  {
   "cell_type": "code",
   "execution_count": 65,
   "metadata": {
    "collapsed": true
   },
   "outputs": [],
   "source": [
    "ref_tif = gc('/home/madhavm/vimana/storage/rough/cs_grid/2017-04-29_T_UTM_dem.tif')\n",
    "new_tif = gc.create_from(ref_tif,'./out3.tif')"
   ]
  },
  {
   "cell_type": "code",
   "execution_count": 55,
   "metadata": {
    "collapsed": true
   },
   "outputs": [],
   "source": [
    "def z_from_plane(x,y,_ym = ym, _xm = xm, norm = _out):\n",
    "    z = ((_xm - x)*norm[0] + (_ym - y)*norm[1])/norm[2] + zm\n",
    "    return z"
   ]
  },
  {
   "cell_type": "code",
   "execution_count": 66,
   "metadata": {},
   "outputs": [
    {
     "data": {
      "text/plain": [
       "(3530, 3887)"
      ]
     },
     "execution_count": 66,
     "metadata": {},
     "output_type": "execute_result"
    }
   ],
   "source": [
    "ref_arr = ref_tif.read()\n",
    "ref_arr.shape"
   ]
  },
  {
   "cell_type": "code",
   "execution_count": 67,
   "metadata": {},
   "outputs": [
    {
     "data": {
      "text/plain": [
       "(804366.6605750369,\n",
       " 0.025915953291487295,\n",
       " 0.0,\n",
       " 1438133.3171791409,\n",
       " 0.0,\n",
       " -0.025915953291487295)"
      ]
     },
     "execution_count": 67,
     "metadata": {},
     "output_type": "execute_result"
    }
   ],
   "source": [
    "ref_tif.geo_trans"
   ]
  },
  {
   "cell_type": "code",
   "execution_count": 68,
   "metadata": {},
   "outputs": [
    {
     "data": {
      "text/plain": [
       "3887"
      ]
     },
     "execution_count": 68,
     "metadata": {},
     "output_type": "execute_result"
    }
   ],
   "source": [
    "ref_tif.data_gtif.RasterXSize"
   ]
  },
  {
   "cell_type": "code",
   "execution_count": 69,
   "metadata": {},
   "outputs": [
    {
     "data": {
      "text/plain": [
       "0"
      ]
     },
     "execution_count": 69,
     "metadata": {},
     "output_type": "execute_result"
    }
   ],
   "source": [
    "new_arr = np.zeros(ref_arr.shape)\n",
    "for x in range(ref_arr.shape[1]):\n",
    "    for y in range(ref_arr.shape[0]):\n",
    "        if(ref_arr[y,x] == ref_tif.no_data_value):\n",
    "            new_arr[y,x] = new_tif.no_data_value\n",
    "        else:\n",
    "            #new_arr[y,x] = 1\n",
    "            xc = ref_tif.geo_trans[0] + x * ref_tif.geo_trans[1]\n",
    "            yc = ref_tif.geo_trans[3] + y * ref_tif.geo_trans[5]\n",
    "            new_arr[y,x] = z_from_plane(xc,yc)\n",
    "new_tif.write(new_arr)\n",
    "        "
   ]
  },
  {
   "cell_type": "code",
   "execution_count": 70,
   "metadata": {
    "collapsed": true
   },
   "outputs": [],
   "source": [
    "new_tif = None"
   ]
  },
  {
   "cell_type": "code",
   "execution_count": 61,
   "metadata": {},
   "outputs": [
    {
     "data": {
      "text/plain": [
       "-32767.0"
      ]
     },
     "execution_count": 61,
     "metadata": {},
     "output_type": "execute_result"
    }
   ],
   "source": [
    "ref_tif.no_data_value"
   ]
  },
  {
   "cell_type": "code",
   "execution_count": 71,
   "metadata": {
    "collapsed": true
   },
   "outputs": [],
   "source": [
    "import dem_processing.dem_filtering as df\n"
   ]
  },
  {
   "cell_type": "code",
   "execution_count": 72,
   "metadata": {},
   "outputs": [
    {
     "data": {
      "text/plain": [
       "4774377.048679838"
      ]
     },
     "execution_count": 72,
     "metadata": {},
     "output_type": "execute_result"
    }
   ],
   "source": [
    "df.volumeRefPlane('./out3.tif')"
   ]
  },
  {
   "cell_type": "code",
   "execution_count": 17,
   "metadata": {},
   "outputs": [
    {
     "name": "stdout",
     "output_type": "stream",
     "text": [
      "11\n"
     ]
    }
   ],
   "source": [
    "a = 1 \n",
    "b = 2\n",
    "c_func = lambda x,y : a*x + b*y\n",
    "print(c_func(3,4))"
   ]
  },
  {
   "cell_type": "code",
   "execution_count": null,
   "metadata": {
    "collapsed": true
   },
   "outputs": [],
   "source": []
  }
 ],
 "metadata": {
  "kernelspec": {
   "display_name": "Python [conda env:vimana]",
   "language": "python",
   "name": "conda-env-vimana-py"
  },
  "language_info": {
   "codemirror_mode": {
    "name": "ipython",
    "version": 3
   },
   "file_extension": ".py",
   "mimetype": "text/x-python",
   "name": "python",
   "nbconvert_exporter": "python",
   "pygments_lexer": "ipython3",
   "version": "3.5.3"
  }
 },
 "nbformat": 4,
 "nbformat_minor": 2
}
