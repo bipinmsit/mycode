{
 "cells": [
  {
   "cell_type": "code",
   "execution_count": 1,
   "metadata": {
    "collapsed": true
   },
   "outputs": [],
   "source": [
    "import os"
   ]
  },
  {
   "cell_type": "code",
   "execution_count": 2,
   "metadata": {
    "collapsed": true
   },
   "outputs": [],
   "source": [
    "import subprocess"
   ]
  },
  {
   "cell_type": "code",
   "execution_count": 3,
   "metadata": {
    "collapsed": true
   },
   "outputs": [],
   "source": [
    "import gdal"
   ]
  },
  {
   "cell_type": "code",
   "execution_count": 4,
   "metadata": {},
   "outputs": [
    {
     "name": "stdout",
     "output_type": "stream",
     "text": [
      "outputs_folder:  ['clipped']\n",
      "clipped_folder:  ['global']\n",
      "global_folder:  []\n"
     ]
    }
   ],
   "source": [
    "# PATH\n",
    "photoscan_output_path = \"D:\\\\PhotoScan Projects\\\\sowparnika\\\\projects\\\\tharangini\\\\sitestatus\\\\rough\\\\\"\n",
    "outputs_path = \"D:\\\\PhotoScan Projects\\\\sowparnika\\\\projects\\\\tharangini\\\\sitestatus\\\\rough\\\\2017_05_28\\\\outputs\\\\\"\n",
    "clipped_path = \"D:\\\\PhotoScan Projects\\\\sowparnika\\\\projects\\\\tharangini\\\\sitestatus\\\\rough\\\\2017_05_28\\\\outputs\\\\clipped\\\\\"\n",
    "global_path = \"D:\\\\PhotoScan Projects\\\\sowparnika\\\\projects\\\\tharangini\\\\sitestatus\\\\rough\\\\2017_05_28\\\\outputs\\\\clipped\\\\global\\\\\\\\\"\n",
    "shape_path = \"D:\\\\PhotoScan Projects\\\\sowparnika\\\\projects\\\\tharangini\\\\others\\\\Tharangini clipped boundary\\\\Tharangini Boundary-local-utm-43n.shp\"\n",
    "scripts = \"D:\\\\scripts\\\\processes\\\\create_colorized_dem.py\"\n",
    "color_txt_file = \"D:\\\\scripts\\\\python\\\\dem_histogram_colorize\\\\colour-relief-tharangini-loc.txt\"\n",
    "local_2_global_py = \"C:\\\\Users\\\\user\\\\Desktop\\\\GitHub\\\\scripts\\\\python\\\\bin\\\\local2global.py\"\n",
    "local_2_global_csv = \"C:\\\\Users\\\\user\\\\Desktop\\\\GitHub\\\\scripts\\\\python\\\\raster_processing\\\\local2global.csv\"\n",
    "\n",
    "print(\"outputs_folder: \", os.listdir(outputs_path))\n",
    "print(\"clipped_folder: \", os.listdir(clipped_path))\n",
    "print(\"global_folder: \", os.listdir(global_path))"
   ]
  },
  {
   "cell_type": "code",
   "execution_count": 5,
   "metadata": {
    "collapsed": true
   },
   "outputs": [],
   "source": [
    "# ASSIGN THE COORDINATE TO THE PHOTOSCAN OUTPUT DEM & ORTHOMOSAIC AND SAVE INTO OUTPUTS FOLDER\n",
    "for ras in [f for f in os.listdir(photoscan_output_path) if '.tif' in f]:\n",
    "    outputs_data = outputs_path + ras.replace('.tif', '_utm.tif')\n",
    "    subprocess.call('gdal_translate -a_srs EPSG:32643 \"%s\" \"%s\"'%(photoscan_output_path + ras, outputs_data))\n"
   ]
  },
  {
   "cell_type": "code",
   "execution_count": 6,
   "metadata": {
    "collapsed": true
   },
   "outputs": [],
   "source": [
    "# CLIP THE DEM & ORTHOMOSAIC ACCORDING TO AOI AND SAVE IT TO CLIPPED FOLDER\n",
    "for outputs in [f for f in os.listdir(outputs_path) if '.tif' in f]:\n",
    "    clipped_data = clipped_path + outputs.replace('.tif', '_clipped.tif')\n",
    "    subprocess.call('gdalwarp -q -cutline \"%s\" -crop_to_cutline \"%s\" \"%s\"' %(shape_path, outputs_path + outputs, clipped_data))\n"
   ]
  },
  {
   "cell_type": "code",
   "execution_count": 7,
   "metadata": {
    "collapsed": true
   },
   "outputs": [],
   "source": [
    "# COLORIZE THE DEM\n",
    "for dem in [f for f in os.listdir(clipped_path) if 'dem' in f]:\n",
    "    subprocess.call('python \"%s\" \"%s\" \"%s\"' %(scripts, color_txt_file, clipped_path+dem))"
   ]
  },
  {
   "cell_type": "code",
   "execution_count": 8,
   "metadata": {
    "collapsed": true
   },
   "outputs": [],
   "source": [
    "# COMPRESS THE CLIPPED ORTHOMOSAIC & COLORIZE DEM\n",
    "for data in [f for f in os.listdir(clipped_path)]:\n",
    "    compressed_data = clipped_path + data.replace('.tif', '_cmp.tif')\n",
    "    if ('orthomosaic' in data):\n",
    "        subprocess.call('gdal_translate -co compress=jpeg -co tiled=yes \"%s\" \"%s\"' %(clipped_path+data, compressed_data))\n",
    "    elif ('crhs' in data):\n",
    "        subprocess.call('gdalwarp -srcnodata 0 -dstalpha -co compress=jpeg -co tiled=yes \"%s\" \"%s\"' %(clipped_path+data, compressed_data))  "
   ]
  },
  {
   "cell_type": "code",
   "execution_count": 9,
   "metadata": {},
   "outputs": [],
   "source": [
    "# # CONVERT LOCAL TO GLOBAL COORDINATES\n",
    "for cl_data in [f for f in os.listdir(clipped_path) if \"crhs.tif\" in f or \"clipped.tif\" in f]:\n",
    "    subprocess.call('python \"%s\" --name tharangini \"%s\" \"%s\"' %(local_2_global_py, local_2_global_csv, clipped_path+cl_data))\n",
    "for global_ras in [f for f in os.listdir(clipped_path) if '_global.tif' in f]:\n",
    "    subprocess.call('mv \"%s\" \"%s\"' %((clipped_path+global_ras), global_path))\n",
    "    \n",
    "for global_data in [f for f in os.listdir(global_path)]:\n",
    "    global_compressed_data = global_path + global_data.replace('.tif', '_cmp.tif')\n",
    "    if ('orthomosaic' in global_data):\n",
    "        subprocess.call('gdal_translate -co compress=jpeg -co tiled=yes \"%s\" \"%s\"' %(global_path+global_data, global_compressed_data))\n",
    "    elif('crhs' in global_data):\n",
    "        subprocess.call('gdalwarp -srcnodata 0 -dstalpha -co compress=jpeg -co tiled=yes \"%s\" \"%s\"' %(global_path+global_data, global_compressed_data))"
   ]
  },
  {
   "cell_type": "code",
   "execution_count": null,
   "metadata": {
    "collapsed": true
   },
   "outputs": [],
   "source": []
  }
 ],
 "metadata": {
  "kernelspec": {
   "display_name": "Python 3",
   "language": "python",
   "name": "python3"
  },
  "language_info": {
   "codemirror_mode": {
    "name": "ipython",
    "version": 3
   },
   "file_extension": ".py",
   "mimetype": "text/x-python",
   "name": "python",
   "nbconvert_exporter": "python",
   "pygments_lexer": "ipython3",
   "version": "3.5.2"
  }
 },
 "nbformat": 4,
 "nbformat_minor": 2
}
